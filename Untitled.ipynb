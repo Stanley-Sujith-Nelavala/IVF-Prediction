{
 "cells": [
  {
   "cell_type": "code",
   "execution_count": 9,
   "id": "b8403e60",
   "metadata": {},
   "outputs": [],
   "source": [
    "import pandas as pd\n",
    "import numpy\n",
    "training_data_x = pd.read_excel(\"D:\\Internships\\IITK Oswald sir\\IVF\\Datset-Copy.xlsb\")\n",
    "X_train = training_data_x.to_numpy()"
   ]
  },
  {
   "cell_type": "code",
   "execution_count": 10,
   "id": "1226b2ed",
   "metadata": {},
   "outputs": [
    {
     "data": {
      "text/plain": [
       "array([['40-42', nan, '2', ..., nan, nan, nan],\n",
       "       ['45-50', nan, '3', ..., nan, nan, nan],\n",
       "       ['35-37', nan, '0', ..., nan, nan, nan],\n",
       "       ...,\n",
       "       ['38-39', nan, '1', ..., nan, nan, nan],\n",
       "       ['18 - 34', nan, '2', ..., nan, nan, nan],\n",
       "       ['18 - 34', nan, '0', ..., nan, nan, nan]], dtype=object)"
      ]
     },
     "execution_count": 10,
     "metadata": {},
     "output_type": "execute_result"
    }
   ],
   "source": [
    "X_train"
   ]
  },
  {
   "cell_type": "code",
   "execution_count": 11,
   "id": "62635cab",
   "metadata": {},
   "outputs": [
    {
     "data": {
      "text/plain": [
       "numpy.ndarray"
      ]
     },
     "execution_count": 11,
     "metadata": {},
     "output_type": "execute_result"
    }
   ],
   "source": [
    "type(X_train)"
   ]
  },
  {
   "cell_type": "code",
   "execution_count": 12,
   "id": "a97d12ad",
   "metadata": {
    "scrolled": true
   },
   "outputs": [
    {
     "data": {
      "text/plain": [
       "(158519, 95)"
      ]
     },
     "execution_count": 12,
     "metadata": {},
     "output_type": "execute_result"
    }
   ],
   "source": [
    "numpy.shape(X_train)"
   ]
  },
  {
   "cell_type": "code",
   "execution_count": 13,
   "id": "af9fc26b",
   "metadata": {},
   "outputs": [],
   "source": [
    "exp_data=X_train[0:15851, :]"
   ]
  },
  {
   "cell_type": "code",
   "execution_count": 14,
   "id": "57d7ccc0",
   "metadata": {},
   "outputs": [
    {
     "data": {
      "text/plain": [
       "(15851, 95)"
      ]
     },
     "execution_count": 14,
     "metadata": {},
     "output_type": "execute_result"
    }
   ],
   "source": [
    "numpy.shape(exp_data)"
   ]
  },
  {
   "cell_type": "code",
   "execution_count": 18,
   "id": "13e5ef83",
   "metadata": {},
   "outputs": [
    {
     "data": {
      "text/plain": [
       "array(['18 - 34', '35-37', '38-39', '40-42', '43-44', '45-50', '999'],\n",
       "      dtype=object)"
      ]
     },
     "execution_count": 18,
     "metadata": {},
     "output_type": "execute_result"
    }
   ],
   "source": [
    "numpy.unique(exp_data[:,0:1])"
   ]
  },
  {
   "cell_type": "code",
   "execution_count": null,
   "id": "92abd6b7",
   "metadata": {},
   "outputs": [],
   "source": []
  }
 ],
 "metadata": {
  "kernelspec": {
   "display_name": "Python 3 (ipykernel)",
   "language": "python",
   "name": "python3"
  },
  "language_info": {
   "codemirror_mode": {
    "name": "ipython",
    "version": 3
   },
   "file_extension": ".py",
   "mimetype": "text/x-python",
   "name": "python",
   "nbconvert_exporter": "python",
   "pygments_lexer": "ipython3",
   "version": "3.9.12"
  }
 },
 "nbformat": 4,
 "nbformat_minor": 5
}
