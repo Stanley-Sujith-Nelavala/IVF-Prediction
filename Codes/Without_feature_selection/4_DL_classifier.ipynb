{
 "cells": [
  {
   "cell_type": "code",
   "execution_count": null,
   "id": "71cb9e33",
   "metadata": {},
   "outputs": [],
   "source": [
    "import pandas as pd \n",
    "import os\n",
    "\n",
    "df=pd.read_csv('/media/stanley/SHARED/Internships/IITK Oswald sir/IVF/Codes/Dataset/cleaned1.csv')\n",
    "#df.info()\n",
    "\n",
    "from sklearn.model_selection import train_test_split, GridSearchCV\n",
    "from sklearn.metrics import accuracy_score, confusion_matrix\n",
    "\n",
    "from sklearn.tree import export_graphviz\n",
    "from sklearn.neighbors import KNeighborsClassifier\n",
    "\n",
    "import graphviz"
   ]
  },
  {
   "cell_type": "code",
   "execution_count": null,
   "id": "b5f5d373",
   "metadata": {},
   "outputs": [],
   "source": [
    "y = df['Live Birth Occurrence']\n",
    "X = df.drop('Live Birth Occurrence', axis=1)\n",
    "\n",
    "from sklearn.model_selection import train_test_split\n",
    "X_train, X_test, y_train, y_test = train_test_split(X, y, test_size=0.20)\n",
    "\n",
    "parameters = { 'hidden_layer_sizes': [(10,30,10),(20,)],\n",
    "                'activation': ['tanh', 'relu'],\n",
    "                'solver': ['sgd', 'adam'],\n",
    "                'alpha': [0.0001, 0.05],\n",
    "                'learning_rate': ['constant','adaptive'],\n",
    "             }\n",
    "\n",
    "DT_grid  = GridSearchCV(KNeighborsClassifier(),parameters,cv = 2,n_jobs=-1, verbose = True)"
   ]
  },
  {
   "cell_type": "code",
   "execution_count": null,
   "id": "07b89075",
   "metadata": {},
   "outputs": [],
   "source": [
    "DT_grid.fit(X_train,y_train)\n",
    "\n",
    "DT_grid.best_estimator_\n",
    "DT_grid.best_params_"
   ]
  },
  {
   "cell_type": "code",
   "execution_count": null,
   "id": "deaac5d8",
   "metadata": {},
   "outputs": [],
   "source": [
    "DT_Model = KNeighborsClassifier(n_neighbors = 4)\n",
    "DT_Model.fit(X_train,y_train)\n",
    "\n",
    "print (f'Train Accuracy - : {DT_Model.score(X_train,y_train):.3f}')\n",
    "print (f'Test Accuracy - : {DT_Model.score(X_test,y_test):.3f}')"
   ]
  },
  {
   "cell_type": "code",
   "execution_count": null,
   "id": "42cd82f5",
   "metadata": {},
   "outputs": [],
   "source": [
    "y_true, y_pred = y_test , DT_Model.predict(X_test)\n",
    "from sklearn.metrics import classification_report\n",
    "print('Results on the test set:')\n",
    "print(classification_report(y_true, y_pred))"
   ]
  }
 ],
 "metadata": {
  "kernelspec": {
   "display_name": "Python 3.10.4 64-bit",
   "language": "python",
   "name": "python3"
  },
  "language_info": {
   "codemirror_mode": {
    "name": "ipython",
    "version": 3
   },
   "file_extension": ".py",
   "mimetype": "text/x-python",
   "name": "python",
   "nbconvert_exporter": "python",
   "pygments_lexer": "ipython3",
   "version": "3.10.4"
  },
  "vscode": {
   "interpreter": {
    "hash": "916dbcbb3f70747c44a77c7bcd40155683ae19c65e1c03b4aa3499c5328201f1"
   }
  }
 },
 "nbformat": 4,
 "nbformat_minor": 5
}
