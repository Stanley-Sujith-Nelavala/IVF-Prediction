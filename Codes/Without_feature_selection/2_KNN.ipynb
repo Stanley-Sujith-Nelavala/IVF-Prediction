{
 "cells": [
  {
   "cell_type": "code",
   "execution_count": 5,
   "id": "de9a3d2f",
   "metadata": {},
   "outputs": [],
   "source": [
    "import pandas as pd \n",
    "import os\n",
    "\n",
    "df=pd.read_csv('/home/ut01/Desktop/Stanley/IITK Oswald sir/IVF/Codes/Dataset/cleaned1.csv')\n",
    "#df.info()\n",
    "\n",
    "from sklearn.preprocessing import StandardScaler\n",
    "scaler = StandardScaler()\n",
    "\n",
    "from sklearn.preprocessing import LabelEncoder\n",
    "le = LabelEncoder()\n",
    "\n",
    "from sklearn.model_selection import train_test_split, GridSearchCV\n",
    "from sklearn.metrics import accuracy_score, confusion_matrix\n",
    "\n",
    "from sklearn.tree import export_graphviz\n",
    "from sklearn.neighbors import KNeighborsClassifier\n",
    "\n",
    "import graphviz\n",
    "\n"
   ]
  },
  {
   "cell_type": "code",
   "execution_count": 6,
   "id": "fc5d696e",
   "metadata": {},
   "outputs": [],
   "source": [
    "y = df['Live Birth Occurrence']\n",
    "X = df.drop('Live Birth Occurrence', axis=1)\n",
    "\n",
    "from sklearn.model_selection import train_test_split\n",
    "X_train, X_test, y_train, y_test = train_test_split(X, y, test_size=0.20)\n",
    "\n",
    "k_range = list(range(2,15))\n",
    "parameters = dict(n_neighbors=k_range)\n",
    "\n",
    "DT_grid  = GridSearchCV(KNeighborsClassifier(),parameters,cv = 2,n_jobs=-1, verbose = True)\n",
    "\n",
    "\n",
    "\n"
   ]
  },
  {
   "cell_type": "code",
   "execution_count": 7,
   "id": "d368a4c6",
   "metadata": {},
   "outputs": [
    {
     "name": "stdout",
     "output_type": "stream",
     "text": [
      "Fitting 2 folds for each of 13 candidates, totalling 26 fits\n"
     ]
    },
    {
     "data": {
      "text/plain": [
       "{'n_neighbors': 2}"
      ]
     },
     "execution_count": 7,
     "metadata": {},
     "output_type": "execute_result"
    }
   ],
   "source": [
    "DT_grid.fit(X_train,y_train)\n",
    "\n",
    "DT_grid.best_estimator_\n",
    "DT_grid.best_params_\n"
   ]
  },
  {
   "cell_type": "code",
   "execution_count": 10,
   "id": "3534d27d",
   "metadata": {},
   "outputs": [
    {
     "name": "stdout",
     "output_type": "stream",
     "text": [
      "Train Accuracy - : 1.000\n",
      "Test Accuracy - : 1.000\n"
     ]
    }
   ],
   "source": [
    "\n",
    "DT_Model = KNeighborsClassifier(n_neighbors = 2)\n",
    "DT_Model.fit(X_train,y_train)\n",
    "\n",
    "print (f'Train Accuracy - : {DT_Model.score(X_train,y_train):.3f}')\n",
    "print (f'Test Accuracy - : {DT_Model.score(X_test,y_test):.3f}')"
   ]
  },
  {
   "cell_type": "code",
   "execution_count": 11,
   "id": "df9f995b",
   "metadata": {},
   "outputs": [
    {
     "name": "stdout",
     "output_type": "stream",
     "text": [
      "Results on the test set:\n",
      "              precision    recall  f1-score   support\n",
      "\n",
      "           0       1.00      1.00      1.00     37344\n",
      "           1       1.00      1.00      1.00     37716\n",
      "\n",
      "    accuracy                           1.00     75060\n",
      "   macro avg       1.00      1.00      1.00     75060\n",
      "weighted avg       1.00      1.00      1.00     75060\n",
      "\n"
     ]
    }
   ],
   "source": [
    "y_true, y_pred = y_test , DT_Model.predict(X_test)\n",
    "from sklearn.metrics import classification_report\n",
    "print('Results on the test set:')\n",
    "print(classification_report(y_true, y_pred))"
   ]
  }
 ],
 "metadata": {
  "kernelspec": {
   "display_name": "Python 3.9.2 64-bit",
   "language": "python",
   "name": "python3"
  },
  "language_info": {
   "codemirror_mode": {
    "name": "ipython",
    "version": 3
   },
   "file_extension": ".py",
   "mimetype": "text/x-python",
   "name": "python",
   "nbconvert_exporter": "python",
   "pygments_lexer": "ipython3",
   "version": "3.9.2"
  },
  "vscode": {
   "interpreter": {
    "hash": "e7370f93d1d0cde622a1f8e1c04877d8463912d04d973331ad4851f04de6915a"
   }
  }
 },
 "nbformat": 4,
 "nbformat_minor": 5
}
