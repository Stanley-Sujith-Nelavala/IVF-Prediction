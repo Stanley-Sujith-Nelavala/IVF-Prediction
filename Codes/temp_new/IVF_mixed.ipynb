{
 "cells": [
  {
   "cell_type": "code",
   "execution_count": 209,
   "metadata": {},
   "outputs": [],
   "source": [
    "import pandas as pd\n",
    "from sklearn.preprocessing import LabelEncoder\n",
    "le = LabelEncoder()"
   ]
  },
  {
   "cell_type": "code",
   "execution_count": 210,
   "metadata": {},
   "outputs": [
    {
     "data": {
      "text/html": [
       "<div>\n",
       "<style scoped>\n",
       "    .dataframe tbody tr th:only-of-type {\n",
       "        vertical-align: middle;\n",
       "    }\n",
       "\n",
       "    .dataframe tbody tr th {\n",
       "        vertical-align: top;\n",
       "    }\n",
       "\n",
       "    .dataframe thead th {\n",
       "        text-align: right;\n",
       "    }\n",
       "</style>\n",
       "<table border=\"1\" class=\"dataframe\">\n",
       "  <thead>\n",
       "    <tr style=\"text-align: right;\">\n",
       "      <th></th>\n",
       "      <th>Patient age at treatment</th>\n",
       "      <th>Total number of previous IVF cycles</th>\n",
       "      <th>Total number of previous DI cycles</th>\n",
       "      <th>Total number of previous pregnancies - IVF and DI</th>\n",
       "      <th>Total number of previous live births - IVF or DI</th>\n",
       "      <th>Causes of infertility - tubal disease</th>\n",
       "      <th>Causes of infertility - ovulatory disorder</th>\n",
       "      <th>Causes of infertility - male factor</th>\n",
       "      <th>Causes of infertility - patient unexplained</th>\n",
       "      <th>Causes of infertility - endometriosis</th>\n",
       "      <th>...</th>\n",
       "      <th>Heart three weeks gestation</th>\n",
       "      <th>Heart three birth outcome</th>\n",
       "      <th>Heart three birth weight</th>\n",
       "      <th>Heart three sex</th>\n",
       "      <th>Heart three birth congenital abnormalities</th>\n",
       "      <th>Heart three delivery date</th>\n",
       "      <th>Patient ethnicity</th>\n",
       "      <th>Partner ethnicity</th>\n",
       "      <th>Partner Type</th>\n",
       "      <th>Partner age</th>\n",
       "    </tr>\n",
       "  </thead>\n",
       "  <tbody>\n",
       "    <tr>\n",
       "      <th>0</th>\n",
       "      <td>45-50</td>\n",
       "      <td>3</td>\n",
       "      <td>0</td>\n",
       "      <td>0.0</td>\n",
       "      <td>0</td>\n",
       "      <td>0</td>\n",
       "      <td>0</td>\n",
       "      <td>0</td>\n",
       "      <td>0</td>\n",
       "      <td>0</td>\n",
       "      <td>...</td>\n",
       "      <td>NaN</td>\n",
       "      <td>NaN</td>\n",
       "      <td>NaN</td>\n",
       "      <td>NaN</td>\n",
       "      <td>NaN</td>\n",
       "      <td>NaN</td>\n",
       "      <td>Black</td>\n",
       "      <td>Other</td>\n",
       "      <td>Male</td>\n",
       "      <td>NaN</td>\n",
       "    </tr>\n",
       "    <tr>\n",
       "      <th>1</th>\n",
       "      <td>18-34</td>\n",
       "      <td>0</td>\n",
       "      <td>0</td>\n",
       "      <td>NaN</td>\n",
       "      <td>NaN</td>\n",
       "      <td>0</td>\n",
       "      <td>0</td>\n",
       "      <td>0</td>\n",
       "      <td>0</td>\n",
       "      <td>0</td>\n",
       "      <td>...</td>\n",
       "      <td>NaN</td>\n",
       "      <td>NaN</td>\n",
       "      <td>NaN</td>\n",
       "      <td>NaN</td>\n",
       "      <td>NaN</td>\n",
       "      <td>NaN</td>\n",
       "      <td>White</td>\n",
       "      <td>Other</td>\n",
       "      <td>NaN</td>\n",
       "      <td>NaN</td>\n",
       "    </tr>\n",
       "    <tr>\n",
       "      <th>2</th>\n",
       "      <td>999</td>\n",
       "      <td>0</td>\n",
       "      <td>0</td>\n",
       "      <td>NaN</td>\n",
       "      <td>NaN</td>\n",
       "      <td>0</td>\n",
       "      <td>0</td>\n",
       "      <td>0</td>\n",
       "      <td>0</td>\n",
       "      <td>0</td>\n",
       "      <td>...</td>\n",
       "      <td>NaN</td>\n",
       "      <td>NaN</td>\n",
       "      <td>NaN</td>\n",
       "      <td>NaN</td>\n",
       "      <td>NaN</td>\n",
       "      <td>NaN</td>\n",
       "      <td>Other</td>\n",
       "      <td>Other</td>\n",
       "      <td>NaN</td>\n",
       "      <td>NaN</td>\n",
       "    </tr>\n",
       "    <tr>\n",
       "      <th>3</th>\n",
       "      <td>18-34</td>\n",
       "      <td>0</td>\n",
       "      <td>0</td>\n",
       "      <td>NaN</td>\n",
       "      <td>NaN</td>\n",
       "      <td>0</td>\n",
       "      <td>0</td>\n",
       "      <td>1</td>\n",
       "      <td>0</td>\n",
       "      <td>0</td>\n",
       "      <td>...</td>\n",
       "      <td>NaN</td>\n",
       "      <td>NaN</td>\n",
       "      <td>NaN</td>\n",
       "      <td>NaN</td>\n",
       "      <td>NaN</td>\n",
       "      <td>NaN</td>\n",
       "      <td>White</td>\n",
       "      <td>White</td>\n",
       "      <td>Male</td>\n",
       "      <td>18-34</td>\n",
       "    </tr>\n",
       "    <tr>\n",
       "      <th>4</th>\n",
       "      <td>18-34</td>\n",
       "      <td>1</td>\n",
       "      <td>0</td>\n",
       "      <td>NaN</td>\n",
       "      <td>0</td>\n",
       "      <td>0</td>\n",
       "      <td>0</td>\n",
       "      <td>1</td>\n",
       "      <td>0</td>\n",
       "      <td>0</td>\n",
       "      <td>...</td>\n",
       "      <td>NaN</td>\n",
       "      <td>NaN</td>\n",
       "      <td>NaN</td>\n",
       "      <td>NaN</td>\n",
       "      <td>NaN</td>\n",
       "      <td>NaN</td>\n",
       "      <td>White</td>\n",
       "      <td>White</td>\n",
       "      <td>Male</td>\n",
       "      <td>18-34</td>\n",
       "    </tr>\n",
       "    <tr>\n",
       "      <th>...</th>\n",
       "      <td>...</td>\n",
       "      <td>...</td>\n",
       "      <td>...</td>\n",
       "      <td>...</td>\n",
       "      <td>...</td>\n",
       "      <td>...</td>\n",
       "      <td>...</td>\n",
       "      <td>...</td>\n",
       "      <td>...</td>\n",
       "      <td>...</td>\n",
       "      <td>...</td>\n",
       "      <td>...</td>\n",
       "      <td>...</td>\n",
       "      <td>...</td>\n",
       "      <td>...</td>\n",
       "      <td>...</td>\n",
       "      <td>...</td>\n",
       "      <td>...</td>\n",
       "      <td>...</td>\n",
       "      <td>...</td>\n",
       "      <td>...</td>\n",
       "    </tr>\n",
       "    <tr>\n",
       "      <th>169611</th>\n",
       "      <td>18-34</td>\n",
       "      <td>0</td>\n",
       "      <td>0</td>\n",
       "      <td>NaN</td>\n",
       "      <td>NaN</td>\n",
       "      <td>1</td>\n",
       "      <td>0</td>\n",
       "      <td>0</td>\n",
       "      <td>0</td>\n",
       "      <td>0</td>\n",
       "      <td>...</td>\n",
       "      <td>NaN</td>\n",
       "      <td>NaN</td>\n",
       "      <td>NaN</td>\n",
       "      <td>NaN</td>\n",
       "      <td>NaN</td>\n",
       "      <td>NaN</td>\n",
       "      <td>Other</td>\n",
       "      <td>White</td>\n",
       "      <td>Male</td>\n",
       "      <td>18-34</td>\n",
       "    </tr>\n",
       "    <tr>\n",
       "      <th>169612</th>\n",
       "      <td>18-34</td>\n",
       "      <td>1</td>\n",
       "      <td>0</td>\n",
       "      <td>NaN</td>\n",
       "      <td>0</td>\n",
       "      <td>1</td>\n",
       "      <td>0</td>\n",
       "      <td>0</td>\n",
       "      <td>0</td>\n",
       "      <td>0</td>\n",
       "      <td>...</td>\n",
       "      <td>NaN</td>\n",
       "      <td>NaN</td>\n",
       "      <td>NaN</td>\n",
       "      <td>NaN</td>\n",
       "      <td>NaN</td>\n",
       "      <td>NaN</td>\n",
       "      <td>Other</td>\n",
       "      <td>White</td>\n",
       "      <td>Male</td>\n",
       "      <td>18-34</td>\n",
       "    </tr>\n",
       "    <tr>\n",
       "      <th>169613</th>\n",
       "      <td>18-34</td>\n",
       "      <td>2</td>\n",
       "      <td>0</td>\n",
       "      <td>NaN</td>\n",
       "      <td>0</td>\n",
       "      <td>1</td>\n",
       "      <td>0</td>\n",
       "      <td>0</td>\n",
       "      <td>0</td>\n",
       "      <td>0</td>\n",
       "      <td>...</td>\n",
       "      <td>NaN</td>\n",
       "      <td>NaN</td>\n",
       "      <td>NaN</td>\n",
       "      <td>NaN</td>\n",
       "      <td>NaN</td>\n",
       "      <td>NaN</td>\n",
       "      <td>Other</td>\n",
       "      <td>White</td>\n",
       "      <td>Male</td>\n",
       "      <td>18-34</td>\n",
       "    </tr>\n",
       "    <tr>\n",
       "      <th>169614</th>\n",
       "      <td>35-37</td>\n",
       "      <td>0</td>\n",
       "      <td>0</td>\n",
       "      <td>NaN</td>\n",
       "      <td>NaN</td>\n",
       "      <td>0</td>\n",
       "      <td>0</td>\n",
       "      <td>1</td>\n",
       "      <td>0</td>\n",
       "      <td>0</td>\n",
       "      <td>...</td>\n",
       "      <td>NaN</td>\n",
       "      <td>NaN</td>\n",
       "      <td>NaN</td>\n",
       "      <td>NaN</td>\n",
       "      <td>NaN</td>\n",
       "      <td>NaN</td>\n",
       "      <td>Other</td>\n",
       "      <td>Other</td>\n",
       "      <td>Male</td>\n",
       "      <td>35-37</td>\n",
       "    </tr>\n",
       "    <tr>\n",
       "      <th>169615</th>\n",
       "      <td>18-34</td>\n",
       "      <td>0</td>\n",
       "      <td>0</td>\n",
       "      <td>NaN</td>\n",
       "      <td>NaN</td>\n",
       "      <td>0</td>\n",
       "      <td>0</td>\n",
       "      <td>1</td>\n",
       "      <td>0</td>\n",
       "      <td>0</td>\n",
       "      <td>...</td>\n",
       "      <td>NaN</td>\n",
       "      <td>NaN</td>\n",
       "      <td>NaN</td>\n",
       "      <td>NaN</td>\n",
       "      <td>NaN</td>\n",
       "      <td>NaN</td>\n",
       "      <td>White</td>\n",
       "      <td>White</td>\n",
       "      <td>Male</td>\n",
       "      <td>35-37</td>\n",
       "    </tr>\n",
       "  </tbody>\n",
       "</table>\n",
       "<p>169616 rows × 61 columns</p>\n",
       "</div>"
      ],
      "text/plain": [
       "       Patient age at treatment Total number of previous IVF cycles  \\\n",
       "0                         45-50                                   3   \n",
       "1                         18-34                                   0   \n",
       "2                           999                                   0   \n",
       "3                         18-34                                   0   \n",
       "4                         18-34                                   1   \n",
       "...                         ...                                 ...   \n",
       "169611                    18-34                                   0   \n",
       "169612                    18-34                                   1   \n",
       "169613                    18-34                                   2   \n",
       "169614                    35-37                                   0   \n",
       "169615                    18-34                                   0   \n",
       "\n",
       "       Total number of previous DI cycles  \\\n",
       "0                                       0   \n",
       "1                                       0   \n",
       "2                                       0   \n",
       "3                                       0   \n",
       "4                                       0   \n",
       "...                                   ...   \n",
       "169611                                  0   \n",
       "169612                                  0   \n",
       "169613                                  0   \n",
       "169614                                  0   \n",
       "169615                                  0   \n",
       "\n",
       "        Total number of previous pregnancies - IVF and DI  \\\n",
       "0                                                     0.0   \n",
       "1                                                     NaN   \n",
       "2                                                     NaN   \n",
       "3                                                     NaN   \n",
       "4                                                     NaN   \n",
       "...                                                   ...   \n",
       "169611                                                NaN   \n",
       "169612                                                NaN   \n",
       "169613                                                NaN   \n",
       "169614                                                NaN   \n",
       "169615                                                NaN   \n",
       "\n",
       "       Total number of previous live births - IVF or DI  \\\n",
       "0                                                     0   \n",
       "1                                                   NaN   \n",
       "2                                                   NaN   \n",
       "3                                                   NaN   \n",
       "4                                                     0   \n",
       "...                                                 ...   \n",
       "169611                                              NaN   \n",
       "169612                                                0   \n",
       "169613                                                0   \n",
       "169614                                              NaN   \n",
       "169615                                              NaN   \n",
       "\n",
       "        Causes of infertility - tubal disease  \\\n",
       "0                                           0   \n",
       "1                                           0   \n",
       "2                                           0   \n",
       "3                                           0   \n",
       "4                                           0   \n",
       "...                                       ...   \n",
       "169611                                      1   \n",
       "169612                                      1   \n",
       "169613                                      1   \n",
       "169614                                      0   \n",
       "169615                                      0   \n",
       "\n",
       "        Causes of infertility - ovulatory disorder  \\\n",
       "0                                                0   \n",
       "1                                                0   \n",
       "2                                                0   \n",
       "3                                                0   \n",
       "4                                                0   \n",
       "...                                            ...   \n",
       "169611                                           0   \n",
       "169612                                           0   \n",
       "169613                                           0   \n",
       "169614                                           0   \n",
       "169615                                           0   \n",
       "\n",
       "        Causes of infertility - male factor  \\\n",
       "0                                         0   \n",
       "1                                         0   \n",
       "2                                         0   \n",
       "3                                         1   \n",
       "4                                         1   \n",
       "...                                     ...   \n",
       "169611                                    0   \n",
       "169612                                    0   \n",
       "169613                                    0   \n",
       "169614                                    1   \n",
       "169615                                    1   \n",
       "\n",
       "        Causes of infertility - patient unexplained  \\\n",
       "0                                                 0   \n",
       "1                                                 0   \n",
       "2                                                 0   \n",
       "3                                                 0   \n",
       "4                                                 0   \n",
       "...                                             ...   \n",
       "169611                                            0   \n",
       "169612                                            0   \n",
       "169613                                            0   \n",
       "169614                                            0   \n",
       "169615                                            0   \n",
       "\n",
       "        Causes of infertility - endometriosis  ...  \\\n",
       "0                                           0  ...   \n",
       "1                                           0  ...   \n",
       "2                                           0  ...   \n",
       "3                                           0  ...   \n",
       "4                                           0  ...   \n",
       "...                                       ...  ...   \n",
       "169611                                      0  ...   \n",
       "169612                                      0  ...   \n",
       "169613                                      0  ...   \n",
       "169614                                      0  ...   \n",
       "169615                                      0  ...   \n",
       "\n",
       "       Heart three weeks gestation  Heart three birth outcome  \\\n",
       "0                              NaN                        NaN   \n",
       "1                              NaN                        NaN   \n",
       "2                              NaN                        NaN   \n",
       "3                              NaN                        NaN   \n",
       "4                              NaN                        NaN   \n",
       "...                            ...                        ...   \n",
       "169611                         NaN                        NaN   \n",
       "169612                         NaN                        NaN   \n",
       "169613                         NaN                        NaN   \n",
       "169614                         NaN                        NaN   \n",
       "169615                         NaN                        NaN   \n",
       "\n",
       "       Heart three birth weight Heart three sex  \\\n",
       "0                           NaN             NaN   \n",
       "1                           NaN             NaN   \n",
       "2                           NaN             NaN   \n",
       "3                           NaN             NaN   \n",
       "4                           NaN             NaN   \n",
       "...                         ...             ...   \n",
       "169611                      NaN             NaN   \n",
       "169612                      NaN             NaN   \n",
       "169613                      NaN             NaN   \n",
       "169614                      NaN             NaN   \n",
       "169615                      NaN             NaN   \n",
       "\n",
       "        Heart three birth congenital abnormalities Heart three delivery date  \\\n",
       "0                                              NaN                       NaN   \n",
       "1                                              NaN                       NaN   \n",
       "2                                              NaN                       NaN   \n",
       "3                                              NaN                       NaN   \n",
       "4                                              NaN                       NaN   \n",
       "...                                            ...                       ...   \n",
       "169611                                         NaN                       NaN   \n",
       "169612                                         NaN                       NaN   \n",
       "169613                                         NaN                       NaN   \n",
       "169614                                         NaN                       NaN   \n",
       "169615                                         NaN                       NaN   \n",
       "\n",
       "       Patient ethnicity  Partner ethnicity  Partner Type  Partner age  \n",
       "0                  Black              Other          Male          NaN  \n",
       "1                  White              Other           NaN          NaN  \n",
       "2                  Other              Other           NaN          NaN  \n",
       "3                  White              White          Male        18-34  \n",
       "4                  White              White          Male        18-34  \n",
       "...                  ...                ...           ...          ...  \n",
       "169611             Other              White          Male        18-34  \n",
       "169612             Other              White          Male        18-34  \n",
       "169613             Other              White          Male        18-34  \n",
       "169614             Other              Other          Male        35-37  \n",
       "169615             White              White          Male        35-37  \n",
       "\n",
       "[169616 rows x 61 columns]"
      ]
     },
     "execution_count": 210,
     "metadata": {},
     "output_type": "execute_result"
    }
   ],
   "source": [
    "df = pd.read_excel(\"ar-2017-2018.xlsx\", sheet_name=\"Anonymised register\")\n",
    "df"
   ]
  },
  {
   "cell_type": "code",
   "execution_count": 211,
   "metadata": {},
   "outputs": [
    {
     "name": "stdout",
     "output_type": "stream",
     "text": [
      "<class 'pandas.core.frame.DataFrame'>\n",
      "RangeIndex: 169616 entries, 0 to 169615\n",
      "Data columns (total 61 columns):\n",
      " #   Column                                             Non-Null Count   Dtype  \n",
      "---  ------                                             --------------   -----  \n",
      " 0   Patient age at treatment                           169616 non-null  object \n",
      " 1   Total number of previous IVF cycles                169616 non-null  object \n",
      " 2   Total number of previous DI cycles                 169616 non-null  object \n",
      " 3   Total number of previous pregnancies - IVF and DI  42688 non-null   float64\n",
      " 4   Total number of previous live births - IVF or DI   105087 non-null  object \n",
      " 5   Causes of infertility - tubal disease              169616 non-null  int64  \n",
      " 6   Causes of infertility - ovulatory disorder         169616 non-null  int64  \n",
      " 7   Causes of infertility - male factor                169616 non-null  int64  \n",
      " 8   Causes of infertility - patient unexplained        169616 non-null  int64  \n",
      " 9   Causes of infertility - endometriosis              169616 non-null  int64  \n",
      " 10  Main reason for producing embroys storing eggs     169616 non-null  object \n",
      " 11  Stimulation used                                   169616 non-null  int64  \n",
      " 12  Egg donor age at registration                      8641 non-null    object \n",
      " 13  Sperm donor age at registration                    24878 non-null   object \n",
      " 14  Donated embryo                                     158334 non-null  float64\n",
      " 15  Type of treatment - IVF or DI                      169616 non-null  object \n",
      " 16  Specific treatment type                            169616 non-null  object \n",
      " 17  PGT-M treatment                                    169616 non-null  int64  \n",
      " 18  PGT-A treatment                                    169616 non-null  int64  \n",
      " 19  Elective single embryo transfer                    158334 non-null  float64\n",
      " 20  Egg source                                         158334 non-null  object \n",
      " 21  Sperm source                                       169421 non-null  object \n",
      " 22  Fresh cycle                                        158334 non-null  float64\n",
      " 23  Frozen cycle                                       158334 non-null  float64\n",
      " 24  Eggs thawed (0/1)                                  169616 non-null  int64  \n",
      " 25  Fresh eggs collected                               158334 non-null  object \n",
      " 26  Fresh eggs stored (0/1)                            169616 non-null  int64  \n",
      " 27  Total eggs mixed                                   158334 non-null  object \n",
      " 28  Total embryos created                              158334 non-null  object \n",
      " 29  Embryos transferred                                158334 non-null  float64\n",
      " 30  Total embryos thawed                               169616 non-null  object \n",
      " 31  Embryos transferred from eggs micro-injected       84882 non-null   float64\n",
      " 32  Embryos stored for use by patient                  158334 non-null  object \n",
      " 33  Date of embryo transfer                            120834 non-null  float64\n",
      " 34  Year of treatment                                  169616 non-null  int64  \n",
      " 35  Live birth occurrence                              169616 non-null  int64  \n",
      " 36  Number of live births                              169616 non-null  int64  \n",
      " 37  Early outcome                                      132520 non-null  object \n",
      " 38  Number of foetal sacs with fetal pulsation         59845 non-null   object \n",
      " 39  Heart one weeks gestation                          40353 non-null   object \n",
      " 40  Heart one birth outcome                            46810 non-null   object \n",
      " 41  Heart one birth weight                             40259 non-null   object \n",
      " 42  Heart one sex                                      40493 non-null   object \n",
      " 43  Heart one delivery date                            40393 non-null   float64\n",
      " 44  Heart one birth congenital abnormalities           443 non-null     float64\n",
      " 45  Heart two weeks gestation                          4154 non-null    object \n",
      " 46  Heart two birth outcome                            4725 non-null    object \n",
      " 47  Heart two birth weight                             4101 non-null    object \n",
      " 48  Heart two sex                                      4150 non-null    object \n",
      " 49  Heart two delivery date                            4143 non-null    float64\n",
      " 50  Heart two birth congenital abnormalities           37 non-null      float64\n",
      " 51  Heart three weeks gestation                        79 non-null      object \n",
      " 52  Heart three birth outcome                          107 non-null     object \n",
      " 53  Heart three birth weight                           77 non-null      object \n",
      " 54  Heart three sex                                    80 non-null      object \n",
      " 55  Heart three birth congenital abnormalities         37 non-null      float64\n",
      " 56  Heart three delivery date                          80 non-null      float64\n",
      " 57  Patient ethnicity                                  169616 non-null  object \n",
      " 58  Partner ethnicity                                  169616 non-null  object \n",
      " 59  Partner Type                                       166152 non-null  object \n",
      " 60  Partner age                                        152683 non-null  object \n",
      "dtypes: float64(14), int64(13), object(34)\n",
      "memory usage: 78.9+ MB\n"
     ]
    }
   ],
   "source": [
    "df.info()"
   ]
  },
  {
   "cell_type": "code",
   "execution_count": 212,
   "metadata": {},
   "outputs": [
    {
     "data": {
      "text/plain": [
       "Patient age at treatment                                  0\n",
       "Total number of previous IVF cycles                       0\n",
       "Total number of previous DI cycles                        0\n",
       "Total number of previous pregnancies - IVF and DI    126928\n",
       "Total number of previous live births - IVF or DI      64529\n",
       "                                                      ...  \n",
       "Heart three delivery date                            169536\n",
       "Patient ethnicity                                         0\n",
       "Partner ethnicity                                         0\n",
       "Partner Type                                           3464\n",
       "Partner age                                           16933\n",
       "Length: 61, dtype: int64"
      ]
     },
     "execution_count": 212,
     "metadata": {},
     "output_type": "execute_result"
    }
   ],
   "source": [
    "df.isnull().sum()"
   ]
  },
  {
   "cell_type": "code",
   "execution_count": 213,
   "metadata": {},
   "outputs": [
    {
     "data": {
      "text/plain": [
       "16961.600000000002"
      ]
     },
     "execution_count": 213,
     "metadata": {},
     "output_type": "execute_result"
    }
   ],
   "source": [
    "df.shape[0]*0.10"
   ]
  },
  {
   "cell_type": "code",
   "execution_count": 214,
   "metadata": {},
   "outputs": [
    {
     "name": "stdout",
     "output_type": "stream",
     "text": [
      "<class 'pandas.core.frame.DataFrame'>\n",
      "RangeIndex: 169616 entries, 0 to 169615\n",
      "Data columns (total 35 columns):\n",
      " #   Column                                          Non-Null Count   Dtype  \n",
      "---  ------                                          --------------   -----  \n",
      " 0   Patient age at treatment                        169616 non-null  object \n",
      " 1   Total number of previous IVF cycles             169616 non-null  object \n",
      " 2   Total number of previous DI cycles              169616 non-null  object \n",
      " 3   Causes of infertility - tubal disease           169616 non-null  int64  \n",
      " 4   Causes of infertility - ovulatory disorder      169616 non-null  int64  \n",
      " 5   Causes of infertility - male factor             169616 non-null  int64  \n",
      " 6   Causes of infertility - patient unexplained     169616 non-null  int64  \n",
      " 7   Causes of infertility - endometriosis           169616 non-null  int64  \n",
      " 8   Main reason for producing embroys storing eggs  169616 non-null  object \n",
      " 9   Stimulation used                                169616 non-null  int64  \n",
      " 10  Donated embryo                                  158334 non-null  float64\n",
      " 11  Type of treatment - IVF or DI                   169616 non-null  object \n",
      " 12  Specific treatment type                         169616 non-null  object \n",
      " 13  PGT-M treatment                                 169616 non-null  int64  \n",
      " 14  PGT-A treatment                                 169616 non-null  int64  \n",
      " 15  Elective single embryo transfer                 158334 non-null  float64\n",
      " 16  Egg source                                      158334 non-null  object \n",
      " 17  Sperm source                                    169421 non-null  object \n",
      " 18  Fresh cycle                                     158334 non-null  float64\n",
      " 19  Frozen cycle                                    158334 non-null  float64\n",
      " 20  Eggs thawed (0/1)                               169616 non-null  int64  \n",
      " 21  Fresh eggs collected                            158334 non-null  object \n",
      " 22  Fresh eggs stored (0/1)                         169616 non-null  int64  \n",
      " 23  Total eggs mixed                                158334 non-null  object \n",
      " 24  Total embryos created                           158334 non-null  object \n",
      " 25  Embryos transferred                             158334 non-null  float64\n",
      " 26  Total embryos thawed                            169616 non-null  object \n",
      " 27  Embryos stored for use by patient               158334 non-null  object \n",
      " 28  Year of treatment                               169616 non-null  int64  \n",
      " 29  Live birth occurrence                           169616 non-null  int64  \n",
      " 30  Number of live births                           169616 non-null  int64  \n",
      " 31  Patient ethnicity                               169616 non-null  object \n",
      " 32  Partner ethnicity                               169616 non-null  object \n",
      " 33  Partner Type                                    166152 non-null  object \n",
      " 34  Partner age                                     152683 non-null  object \n",
      "dtypes: float64(5), int64(13), object(17)\n",
      "memory usage: 45.3+ MB\n"
     ]
    }
   ],
   "source": [
    "dfm = df.drop(df.columns[df.apply(lambda col: col.isnull().sum() > df.shape[0]*0.1)], axis=1)\n",
    "dfm.reset_index(drop=True, inplace=True)\n",
    "dfm.info()"
   ]
  },
  {
   "cell_type": "markdown",
   "metadata": {},
   "source": [
    "~~~"
   ]
  },
  {
   "cell_type": "code",
   "execution_count": 215,
   "metadata": {},
   "outputs": [
    {
     "data": {
      "text/plain": [
       "array(['45-50', '18-34', 999, '40-42', '38-39', '35-37', '43-44'],\n",
       "      dtype=object)"
      ]
     },
     "execution_count": 215,
     "metadata": {},
     "output_type": "execute_result"
    }
   ],
   "source": [
    "dfm[\"Patient age at treatment\"].unique()"
   ]
  },
  {
   "cell_type": "code",
   "execution_count": 216,
   "metadata": {},
   "outputs": [
    {
     "data": {
      "text/plain": [
       "array(['45-50', '18-34', '40-42', '38-39', '35-37', '43-44'], dtype=object)"
      ]
     },
     "execution_count": 216,
     "metadata": {},
     "output_type": "execute_result"
    }
   ],
   "source": [
    "dfm.drop(dfm[dfm[\"Patient age at treatment\"] == 999].index, inplace = True)\n",
    "dfm[\"Patient age at treatment\"].unique()"
   ]
  },
  {
   "cell_type": "code",
   "execution_count": 217,
   "metadata": {},
   "outputs": [
    {
     "data": {
      "text/plain": [
       "array([5, 0, 3, 2, 1, 4])"
      ]
     },
     "execution_count": 217,
     "metadata": {},
     "output_type": "execute_result"
    }
   ],
   "source": [
    "dfm[\"Patient age at treatment\"] = le.fit_transform(dfm[\"Patient age at treatment\"])\n",
    "dfm[\"Patient age at treatment\"].unique()"
   ]
  },
  {
   "cell_type": "markdown",
   "metadata": {},
   "source": [
    "~~~~~"
   ]
  },
  {
   "cell_type": "code",
   "execution_count": 218,
   "metadata": {},
   "outputs": [
    {
     "data": {
      "text/plain": [
       "(166947, 34)"
      ]
     },
     "execution_count": 218,
     "metadata": {},
     "output_type": "execute_result"
    }
   ],
   "source": [
    "dfm.drop('Total number of previous DI cycles', axis=1, inplace=True)\n",
    "dfm.shape"
   ]
  },
  {
   "cell_type": "markdown",
   "metadata": {},
   "source": [
    "~~~~"
   ]
  },
  {
   "cell_type": "code",
   "execution_count": 219,
   "metadata": {},
   "outputs": [
    {
     "data": {
      "text/plain": [
       "array(['Embryo storage', 'Donation', 'Treatment - IVF', 'Treatment - DI',\n",
       "       'Egg storage', 'Egg share', 'Undefined'], dtype=object)"
      ]
     },
     "execution_count": 219,
     "metadata": {},
     "output_type": "execute_result"
    }
   ],
   "source": [
    "dfm[\"Main reason for producing embroys storing eggs\"].unique()"
   ]
  },
  {
   "cell_type": "code",
   "execution_count": 220,
   "metadata": {},
   "outputs": [
    {
     "data": {
      "text/plain": [
       "(137171, 34)"
      ]
     },
     "execution_count": 220,
     "metadata": {},
     "output_type": "execute_result"
    }
   ],
   "source": [
    "dfm = dfm[dfm['Main reason for producing embroys storing eggs'] == \"Treatment - IVF\"]\n",
    "dfm.shape"
   ]
  },
  {
   "cell_type": "code",
   "execution_count": 221,
   "metadata": {},
   "outputs": [
    {
     "data": {
      "text/plain": [
       "array(['Treatment - IVF'], dtype=object)"
      ]
     },
     "execution_count": 221,
     "metadata": {},
     "output_type": "execute_result"
    }
   ],
   "source": [
    "dfm[\"Main reason for producing embroys storing eggs\"].unique()"
   ]
  },
  {
   "cell_type": "code",
   "execution_count": 222,
   "metadata": {},
   "outputs": [],
   "source": [
    "dfm.drop('Main reason for producing embroys storing eggs', axis=1, inplace=True)\n"
   ]
  },
  {
   "cell_type": "markdown",
   "metadata": {},
   "source": [
    "~~~~"
   ]
  },
  {
   "cell_type": "code",
   "execution_count": 223,
   "metadata": {},
   "outputs": [
    {
     "data": {
      "text/plain": [
       "(82108, 33)"
      ]
     },
     "execution_count": 223,
     "metadata": {},
     "output_type": "execute_result"
    }
   ],
   "source": [
    "dfm = dfm[dfm['Stimulation used'] == 1]\n",
    "dfm.shape"
   ]
  },
  {
   "cell_type": "code",
   "execution_count": 224,
   "metadata": {},
   "outputs": [
    {
     "data": {
      "text/plain": [
       "array([1])"
      ]
     },
     "execution_count": 224,
     "metadata": {},
     "output_type": "execute_result"
    }
   ],
   "source": [
    "dfm['Stimulation used'].unique()"
   ]
  },
  {
   "cell_type": "markdown",
   "metadata": {},
   "source": [
    "~~~~"
   ]
  },
  {
   "cell_type": "code",
   "execution_count": 225,
   "metadata": {},
   "outputs": [
    {
     "data": {
      "text/plain": [
       "array([0., 1.])"
      ]
     },
     "execution_count": 225,
     "metadata": {},
     "output_type": "execute_result"
    }
   ],
   "source": [
    "dfm[\"Donated embryo\"].unique()"
   ]
  },
  {
   "cell_type": "markdown",
   "metadata": {},
   "source": [
    "~~~~"
   ]
  },
  {
   "cell_type": "code",
   "execution_count": 226,
   "metadata": {},
   "outputs": [
    {
     "data": {
      "text/plain": [
       "array(['IVF'], dtype=object)"
      ]
     },
     "execution_count": 226,
     "metadata": {},
     "output_type": "execute_result"
    }
   ],
   "source": [
    "dfm[\"Type of treatment - IVF or DI\"].unique()"
   ]
  },
  {
   "cell_type": "code",
   "execution_count": 227,
   "metadata": {},
   "outputs": [
    {
     "data": {
      "text/plain": [
       "(82108, 32)"
      ]
     },
     "execution_count": 227,
     "metadata": {},
     "output_type": "execute_result"
    }
   ],
   "source": [
    "dfm.drop('Type of treatment - IVF or DI', axis=1, inplace=True)\n",
    "dfm.shape"
   ]
  },
  {
   "cell_type": "code",
   "execution_count": 228,
   "metadata": {},
   "outputs": [
    {
     "data": {
      "text/plain": [
       "(82108, 31)"
      ]
     },
     "execution_count": 228,
     "metadata": {},
     "output_type": "execute_result"
    }
   ],
   "source": [
    "dfm.drop('Stimulation used', axis=1, inplace=True)\n",
    "dfm.shape"
   ]
  },
  {
   "cell_type": "markdown",
   "metadata": {},
   "source": [
    "~~~~"
   ]
  },
  {
   "cell_type": "code",
   "execution_count": 229,
   "metadata": {},
   "outputs": [
    {
     "data": {
      "text/plain": [
       "array(['ICSI', 'IVF', 'ICSI:IVF', 'ICSI:Unknown', 'Unknown',\n",
       "       'IVF:Unknown'], dtype=object)"
      ]
     },
     "execution_count": 229,
     "metadata": {},
     "output_type": "execute_result"
    }
   ],
   "source": [
    "dfm[\"Specific treatment type\"].unique()"
   ]
  },
  {
   "cell_type": "code",
   "execution_count": 230,
   "metadata": {},
   "outputs": [
    {
     "data": {
      "text/plain": [
       "array(['IVF'], dtype=object)"
      ]
     },
     "execution_count": 230,
     "metadata": {},
     "output_type": "execute_result"
    }
   ],
   "source": [
    "dfm = dfm[dfm['Specific treatment type'] == ('IVF' or 'IVF:Unknown' or 'ICSI:IVF')]\n",
    "\n",
    "dfm[\"Specific treatment type\"].unique()"
   ]
  },
  {
   "cell_type": "code",
   "execution_count": 231,
   "metadata": {},
   "outputs": [
    {
     "data": {
      "text/plain": [
       "(39392, 30)"
      ]
     },
     "execution_count": 231,
     "metadata": {},
     "output_type": "execute_result"
    }
   ],
   "source": [
    "dfm.drop('Specific treatment type', axis=1, inplace=True)\n",
    "dfm.shape"
   ]
  },
  {
   "cell_type": "markdown",
   "metadata": {},
   "source": [
    "~~~~"
   ]
  },
  {
   "cell_type": "code",
   "execution_count": 232,
   "metadata": {},
   "outputs": [
    {
     "data": {
      "text/plain": [
       "array(['Patient'], dtype=object)"
      ]
     },
     "execution_count": 232,
     "metadata": {},
     "output_type": "execute_result"
    }
   ],
   "source": [
    "dfm[\"Egg source\"].unique()"
   ]
  },
  {
   "cell_type": "code",
   "execution_count": 233,
   "metadata": {},
   "outputs": [
    {
     "data": {
      "text/plain": [
       "(39392, 29)"
      ]
     },
     "execution_count": 233,
     "metadata": {},
     "output_type": "execute_result"
    }
   ],
   "source": [
    "dfm.drop('Egg source', axis=1, inplace=True)\n",
    "dfm.shape"
   ]
  },
  {
   "cell_type": "markdown",
   "metadata": {},
   "source": [
    "~~~~"
   ]
  },
  {
   "cell_type": "code",
   "execution_count": 234,
   "metadata": {},
   "outputs": [
    {
     "data": {
      "text/plain": [
       "array(['Partner', 'Donor', nan], dtype=object)"
      ]
     },
     "execution_count": 234,
     "metadata": {},
     "output_type": "execute_result"
    }
   ],
   "source": [
    "dfm[\"Sperm source\"].unique()"
   ]
  },
  {
   "cell_type": "code",
   "execution_count": 235,
   "metadata": {},
   "outputs": [
    {
     "data": {
      "text/plain": [
       "(35867, 29)"
      ]
     },
     "execution_count": 235,
     "metadata": {},
     "output_type": "execute_result"
    }
   ],
   "source": [
    "dfm = dfm[dfm['Sperm source'] == 'Partner']\n",
    "dfm.shape"
   ]
  },
  {
   "cell_type": "code",
   "execution_count": 236,
   "metadata": {},
   "outputs": [
    {
     "data": {
      "text/plain": [
       "(35867, 28)"
      ]
     },
     "execution_count": 236,
     "metadata": {},
     "output_type": "execute_result"
    }
   ],
   "source": [
    "dfm.drop('Sperm source', axis=1, inplace=True)\n",
    "dfm.shape"
   ]
  },
  {
   "cell_type": "markdown",
   "metadata": {},
   "source": [
    "~~~~~"
   ]
  },
  {
   "cell_type": "code",
   "execution_count": 237,
   "metadata": {},
   "outputs": [
    {
     "data": {
      "text/plain": [
       "array([1., 0.])"
      ]
     },
     "execution_count": 237,
     "metadata": {},
     "output_type": "execute_result"
    }
   ],
   "source": [
    "dfm[\"Fresh cycle\"].unique()"
   ]
  },
  {
   "cell_type": "code",
   "execution_count": 238,
   "metadata": {},
   "outputs": [
    {
     "data": {
      "text/plain": [
       "array([0.])"
      ]
     },
     "execution_count": 238,
     "metadata": {},
     "output_type": "execute_result"
    }
   ],
   "source": [
    "dfm[\"Frozen cycle\"].unique()"
   ]
  },
  {
   "cell_type": "code",
   "execution_count": 239,
   "metadata": {},
   "outputs": [
    {
     "data": {
      "text/plain": [
       "(35867, 27)"
      ]
     },
     "execution_count": 239,
     "metadata": {},
     "output_type": "execute_result"
    }
   ],
   "source": [
    "dfm.drop('Frozen cycle', axis=1, inplace=True)\n",
    "dfm.shape"
   ]
  },
  {
   "cell_type": "markdown",
   "metadata": {},
   "source": [
    "~~~~~"
   ]
  },
  {
   "cell_type": "code",
   "execution_count": 240,
   "metadata": {},
   "outputs": [
    {
     "data": {
      "text/plain": [
       "array([0, 1])"
      ]
     },
     "execution_count": 240,
     "metadata": {},
     "output_type": "execute_result"
    }
   ],
   "source": [
    "dfm[\"Eggs thawed (0/1)\"].unique()"
   ]
  },
  {
   "cell_type": "markdown",
   "metadata": {},
   "source": [
    "~~~~~"
   ]
  },
  {
   "cell_type": "code",
   "execution_count": 241,
   "metadata": {},
   "outputs": [
    {
     "data": {
      "text/plain": [
       "array([2017, 2018])"
      ]
     },
     "execution_count": 241,
     "metadata": {},
     "output_type": "execute_result"
    }
   ],
   "source": [
    "dfm[\"Year of treatment\"].unique()"
   ]
  },
  {
   "cell_type": "code",
   "execution_count": 242,
   "metadata": {},
   "outputs": [
    {
     "data": {
      "text/plain": [
       "array([0, 1])"
      ]
     },
     "execution_count": 242,
     "metadata": {},
     "output_type": "execute_result"
    }
   ],
   "source": [
    "dfm[\"Year of treatment\"] = le.fit_transform(dfm[\"Year of treatment\"])\n",
    "dfm[\"Year of treatment\"].unique()"
   ]
  },
  {
   "cell_type": "markdown",
   "metadata": {},
   "source": [
    "~~~~~"
   ]
  },
  {
   "cell_type": "code",
   "execution_count": 243,
   "metadata": {},
   "outputs": [
    {
     "data": {
      "text/plain": [
       "array(['White', 'Asian', 'Other', 'Mixed', 'Black'], dtype=object)"
      ]
     },
     "execution_count": 243,
     "metadata": {},
     "output_type": "execute_result"
    }
   ],
   "source": [
    "dfm[\"Patient ethnicity\"].unique()"
   ]
  },
  {
   "cell_type": "code",
   "execution_count": 244,
   "metadata": {},
   "outputs": [
    {
     "data": {
      "text/plain": [
       "array(['White', 'Asian', 'Other', 'Black', 'Mixed', 'Any other ethnicity'],\n",
       "      dtype=object)"
      ]
     },
     "execution_count": 244,
     "metadata": {},
     "output_type": "execute_result"
    }
   ],
   "source": [
    "dfm[\"Partner ethnicity\"].unique()"
   ]
  },
  {
   "cell_type": "code",
   "execution_count": 245,
   "metadata": {},
   "outputs": [],
   "source": [
    "dfm[\"Patient ethnicity\"] = le.fit_transform(dfm[\"Patient ethnicity\"])\n",
    "dfm[\"Partner ethnicity\"] = le.fit_transform(dfm[\"Partner ethnicity\"])"
   ]
  },
  {
   "cell_type": "markdown",
   "metadata": {},
   "source": [
    "~~~~~"
   ]
  },
  {
   "cell_type": "code",
   "execution_count": 246,
   "metadata": {},
   "outputs": [
    {
     "data": {
      "text/plain": [
       "array(['Male', 'None', 'Female', 'Surrogate'], dtype=object)"
      ]
     },
     "execution_count": 246,
     "metadata": {},
     "output_type": "execute_result"
    }
   ],
   "source": [
    "dfm[\"Partner Type\"].unique()"
   ]
  },
  {
   "cell_type": "code",
   "execution_count": 247,
   "metadata": {},
   "outputs": [
    {
     "data": {
      "text/plain": [
       "0"
      ]
     },
     "execution_count": 247,
     "metadata": {},
     "output_type": "execute_result"
    }
   ],
   "source": [
    "dfm[\"Partner Type\"].isnull().sum()"
   ]
  },
  {
   "cell_type": "code",
   "execution_count": 248,
   "metadata": {},
   "outputs": [
    {
     "data": {
      "text/plain": [
       "0"
      ]
     },
     "execution_count": 248,
     "metadata": {},
     "output_type": "execute_result"
    }
   ],
   "source": [
    "dfm.dropna(axis=0, how='any',subset=['Partner Type'], inplace=True)\n",
    "dfm[\"Partner Type\"].isnull().sum()"
   ]
  },
  {
   "cell_type": "code",
   "execution_count": 249,
   "metadata": {},
   "outputs": [
    {
     "data": {
      "text/plain": [
       "(35867, 27)"
      ]
     },
     "execution_count": 249,
     "metadata": {},
     "output_type": "execute_result"
    }
   ],
   "source": [
    "dfm.shape"
   ]
  },
  {
   "cell_type": "markdown",
   "metadata": {},
   "source": [
    "~~~~"
   ]
  },
  {
   "cell_type": "code",
   "execution_count": 250,
   "metadata": {},
   "outputs": [
    {
     "data": {
      "text/plain": [
       "array(['40-42', '38-39', '18-34', '35-37', '45-50', '43-44', nan, '51-55',\n",
       "       '56-60', '>60', 999], dtype=object)"
      ]
     },
     "execution_count": 250,
     "metadata": {},
     "output_type": "execute_result"
    }
   ],
   "source": [
    "dfm[\"Partner age\"].unique()"
   ]
  },
  {
   "cell_type": "code",
   "execution_count": 251,
   "metadata": {},
   "outputs": [
    {
     "data": {
      "text/plain": [
       "648"
      ]
     },
     "execution_count": 251,
     "metadata": {},
     "output_type": "execute_result"
    }
   ],
   "source": [
    "dfm[\"Partner age\"].isnull().sum()"
   ]
  },
  {
   "cell_type": "code",
   "execution_count": 252,
   "metadata": {},
   "outputs": [
    {
     "data": {
      "text/plain": [
       "array(['40-42', '38-39', '18-34', '35-37', '45-50', '43-44', nan, '51-55',\n",
       "       '56-60', '>60'], dtype=object)"
      ]
     },
     "execution_count": 252,
     "metadata": {},
     "output_type": "execute_result"
    }
   ],
   "source": [
    "dfm.drop(dfm[dfm[\"Partner age\"] == 999].index, inplace = True)\n",
    "dfm[\"Partner age\"].unique()"
   ]
  },
  {
   "cell_type": "code",
   "execution_count": 253,
   "metadata": {},
   "outputs": [
    {
     "data": {
      "text/plain": [
       "0"
      ]
     },
     "execution_count": 253,
     "metadata": {},
     "output_type": "execute_result"
    }
   ],
   "source": [
    "dfm.dropna(axis=0, how='any',subset=['Partner age'], inplace=True)\n",
    "dfm[\"Partner age\"].isnull().sum()"
   ]
  },
  {
   "cell_type": "code",
   "execution_count": 254,
   "metadata": {},
   "outputs": [
    {
     "data": {
      "text/plain": [
       "(35217, 27)"
      ]
     },
     "execution_count": 254,
     "metadata": {},
     "output_type": "execute_result"
    }
   ],
   "source": [
    "dfm.shape"
   ]
  },
  {
   "cell_type": "code",
   "execution_count": 255,
   "metadata": {},
   "outputs": [
    {
     "data": {
      "text/plain": [
       "array([3, 2, 0, 1, 5, 4, 6, 7, 8])"
      ]
     },
     "execution_count": 255,
     "metadata": {},
     "output_type": "execute_result"
    }
   ],
   "source": [
    "dfm[\"Partner age\"] = le.fit_transform(dfm[\"Partner age\"])\n",
    "dfm[\"Partner age\"].unique()"
   ]
  },
  {
   "cell_type": "markdown",
   "metadata": {},
   "source": [
    "~~~~"
   ]
  },
  {
   "cell_type": "code",
   "execution_count": 256,
   "metadata": {},
   "outputs": [
    {
     "data": {
      "text/plain": [
       "array([0, '1-5'], dtype=object)"
      ]
     },
     "execution_count": 256,
     "metadata": {},
     "output_type": "execute_result"
    }
   ],
   "source": [
    "dfm[\"Total embryos thawed\"].unique()"
   ]
  },
  {
   "cell_type": "code",
   "execution_count": 257,
   "metadata": {},
   "outputs": [],
   "source": [
    "dfm[\"Total embryos thawed\"] = dfm[\"Total embryos thawed\"].replace(0,'0')"
   ]
  },
  {
   "cell_type": "code",
   "execution_count": 258,
   "metadata": {},
   "outputs": [],
   "source": [
    "dfm[\"Total embryos thawed\"] = le.fit_transform(dfm[\"Total embryos thawed\"])"
   ]
  },
  {
   "cell_type": "markdown",
   "metadata": {},
   "source": [
    "~~~~"
   ]
  },
  {
   "cell_type": "code",
   "execution_count": 259,
   "metadata": {},
   "outputs": [
    {
     "data": {
      "text/plain": [
       "array([0, '1-5', '6-10', '11-15', '16-20', '>20'], dtype=object)"
      ]
     },
     "execution_count": 259,
     "metadata": {},
     "output_type": "execute_result"
    }
   ],
   "source": [
    "dfm[\"Embryos stored for use by patient\"].unique()"
   ]
  },
  {
   "cell_type": "code",
   "execution_count": 260,
   "metadata": {},
   "outputs": [],
   "source": [
    "dfm.dropna(axis=0, how='any',subset=['Embryos stored for use by patient'], inplace=True)"
   ]
  },
  {
   "cell_type": "code",
   "execution_count": 261,
   "metadata": {},
   "outputs": [],
   "source": [
    "dfm[\"Embryos stored for use by patient\"] = dfm[\"Embryos stored for use by patient\"].replace(0,'0')"
   ]
  },
  {
   "cell_type": "code",
   "execution_count": 262,
   "metadata": {},
   "outputs": [
    {
     "data": {
      "text/plain": [
       "0"
      ]
     },
     "execution_count": 262,
     "metadata": {},
     "output_type": "execute_result"
    }
   ],
   "source": [
    "dfm[\"Embryos stored for use by patient\"].isnull().sum()"
   ]
  },
  {
   "cell_type": "code",
   "execution_count": 263,
   "metadata": {},
   "outputs": [],
   "source": [
    "dfm[\"Embryos stored for use by patient\"] = le.fit_transform(dfm[\"Embryos stored for use by patient\"])"
   ]
  },
  {
   "cell_type": "code",
   "execution_count": 264,
   "metadata": {},
   "outputs": [
    {
     "data": {
      "text/plain": [
       "array([0, 1, 4, 2, 3, 5])"
      ]
     },
     "execution_count": 264,
     "metadata": {},
     "output_type": "execute_result"
    }
   ],
   "source": [
    "dfm[\"Embryos stored for use by patient\"].unique()"
   ]
  },
  {
   "cell_type": "markdown",
   "metadata": {},
   "source": [
    "~~~~"
   ]
  },
  {
   "cell_type": "code",
   "execution_count": 265,
   "metadata": {},
   "outputs": [
    {
     "data": {
      "text/plain": [
       "array(['1-5', '6-10', '21-25', '16-20', '11-15', 0, '31-35', '26-30',\n",
       "       '>40', '36-40'], dtype=object)"
      ]
     },
     "execution_count": 265,
     "metadata": {},
     "output_type": "execute_result"
    }
   ],
   "source": [
    "dfm[\"Fresh eggs collected\"].unique()"
   ]
  },
  {
   "cell_type": "code",
   "execution_count": 266,
   "metadata": {},
   "outputs": [
    {
     "data": {
      "text/plain": [
       "array(['1-5', '6-10', '21-25', '16-20', '11-15', '0', '31-35', '26-30',\n",
       "       '>40', '36-40'], dtype=object)"
      ]
     },
     "execution_count": 266,
     "metadata": {},
     "output_type": "execute_result"
    }
   ],
   "source": [
    "dfm[\"Fresh eggs collected\"] = dfm[\"Fresh eggs collected\"].replace(0,'0')\n",
    "dfm[\"Fresh eggs collected\"].unique()"
   ]
  },
  {
   "cell_type": "code",
   "execution_count": 267,
   "metadata": {},
   "outputs": [
    {
     "data": {
      "text/plain": [
       "array([1, 8, 4, 3, 2, 0, 6, 5, 9, 7])"
      ]
     },
     "execution_count": 267,
     "metadata": {},
     "output_type": "execute_result"
    }
   ],
   "source": [
    "dfm[\"Fresh eggs collected\"] = le.fit_transform(dfm[\"Fresh eggs collected\"])\n",
    "dfm[\"Fresh eggs collected\"].unique()"
   ]
  },
  {
   "cell_type": "markdown",
   "metadata": {},
   "source": [
    "~~~~"
   ]
  },
  {
   "cell_type": "code",
   "execution_count": 268,
   "metadata": {},
   "outputs": [
    {
     "data": {
      "text/plain": [
       "array(['1-5', '6-10', '21-25', '16-20', '11-15', 0, '31-35', '26-30',\n",
       "       '>40', '36-40'], dtype=object)"
      ]
     },
     "execution_count": 268,
     "metadata": {},
     "output_type": "execute_result"
    }
   ],
   "source": [
    "dfm[\"Total eggs mixed\"].unique()"
   ]
  },
  {
   "cell_type": "code",
   "execution_count": 269,
   "metadata": {},
   "outputs": [
    {
     "data": {
      "text/plain": [
       "array(['1-5', '6-10', '21-25', '16-20', '11-15', '0', '31-35', '26-30',\n",
       "       '>40', '36-40'], dtype=object)"
      ]
     },
     "execution_count": 269,
     "metadata": {},
     "output_type": "execute_result"
    }
   ],
   "source": [
    "dfm[\"Total eggs mixed\"] = dfm[\"Total eggs mixed\"].replace(0,'0')\n",
    "dfm[\"Total eggs mixed\"].unique()"
   ]
  },
  {
   "cell_type": "code",
   "execution_count": 270,
   "metadata": {},
   "outputs": [
    {
     "data": {
      "text/plain": [
       "array([1, 8, 4, 3, 2, 0, 6, 5, 9, 7])"
      ]
     },
     "execution_count": 270,
     "metadata": {},
     "output_type": "execute_result"
    }
   ],
   "source": [
    "dfm[\"Total eggs mixed\"] = le.fit_transform(dfm[\"Total eggs mixed\"])\n",
    "dfm[\"Total eggs mixed\"].unique()"
   ]
  },
  {
   "cell_type": "markdown",
   "metadata": {},
   "source": [
    "~~~"
   ]
  },
  {
   "cell_type": "code",
   "execution_count": 271,
   "metadata": {},
   "outputs": [
    {
     "data": {
      "text/plain": [
       "array(['1-5', '6-10', '11-15', '16-20', 0, '26-30', '21-25', '>30'],\n",
       "      dtype=object)"
      ]
     },
     "execution_count": 271,
     "metadata": {},
     "output_type": "execute_result"
    }
   ],
   "source": [
    "dfm[\"Total embryos created\"].unique()"
   ]
  },
  {
   "cell_type": "code",
   "execution_count": 272,
   "metadata": {},
   "outputs": [
    {
     "data": {
      "text/plain": [
       "array(['1-5', '6-10', '11-15', '16-20', '0', '26-30', '21-25', '>30'],\n",
       "      dtype=object)"
      ]
     },
     "execution_count": 272,
     "metadata": {},
     "output_type": "execute_result"
    }
   ],
   "source": [
    "dfm[\"Total embryos created\"] = dfm[\"Total embryos created\"].replace(0,'0')\n",
    "dfm[\"Total embryos created\"].unique()"
   ]
  },
  {
   "cell_type": "code",
   "execution_count": 273,
   "metadata": {},
   "outputs": [
    {
     "data": {
      "text/plain": [
       "array([1, 6, 2, 3, 0, 5, 4, 7])"
      ]
     },
     "execution_count": 273,
     "metadata": {},
     "output_type": "execute_result"
    }
   ],
   "source": [
    "dfm[\"Total embryos created\"] = le.fit_transform(dfm[\"Total embryos created\"])\n",
    "dfm[\"Total embryos created\"].unique()"
   ]
  },
  {
   "cell_type": "code",
   "execution_count": 274,
   "metadata": {},
   "outputs": [
    {
     "data": {
      "text/plain": [
       "(35217, 27)"
      ]
     },
     "execution_count": 274,
     "metadata": {},
     "output_type": "execute_result"
    }
   ],
   "source": [
    "dfm.shape"
   ]
  },
  {
   "cell_type": "markdown",
   "metadata": {},
   "source": [
    "~~~"
   ]
  },
  {
   "cell_type": "code",
   "execution_count": 275,
   "metadata": {},
   "outputs": [
    {
     "data": {
      "text/plain": [
       "array([0, 1, 3, 4, 2, 5, '>5'], dtype=object)"
      ]
     },
     "execution_count": 275,
     "metadata": {},
     "output_type": "execute_result"
    }
   ],
   "source": [
    "dfm[\"Total number of previous IVF cycles\"].unique()"
   ]
  },
  {
   "cell_type": "code",
   "execution_count": 276,
   "metadata": {},
   "outputs": [],
   "source": [
    "#dfm = dfm[dfm['Total number of previous IVF cycles'] == 1]\n"
   ]
  },
  {
   "cell_type": "code",
   "execution_count": 277,
   "metadata": {},
   "outputs": [
    {
     "data": {
      "text/plain": [
       "array([0, 1, 3, 4, 2, 5, 6])"
      ]
     },
     "execution_count": 277,
     "metadata": {},
     "output_type": "execute_result"
    }
   ],
   "source": [
    "dfm[\"Total number of previous IVF cycles\"] = dfm[\"Total number of previous IVF cycles\"].replace('>5',6)\n",
    "dfm[\"Total number of previous IVF cycles\"].unique()"
   ]
  },
  {
   "cell_type": "code",
   "execution_count": 278,
   "metadata": {},
   "outputs": [
    {
     "data": {
      "text/plain": [
       "(35217, 27)"
      ]
     },
     "execution_count": 278,
     "metadata": {},
     "output_type": "execute_result"
    }
   ],
   "source": [
    "#dfm.drop('Total number of previous IVF cycles', axis=1, inplace=True)\n",
    "dfm.shape"
   ]
  },
  {
   "cell_type": "markdown",
   "metadata": {},
   "source": [
    "dfm[\"Total number of previous IVF cycles\"] = dfm[\"Total number of previous IVF cycles\"].astype(str)\n",
    "dfm[\"Total number of previous IVF cycles\"].unique()"
   ]
  },
  {
   "cell_type": "markdown",
   "metadata": {},
   "source": [
    "dfm[\"Total number of previous IVF cycles\"] = le.fit_transform(dfm[\"Total number of previous IVF cycles\"])\n",
    "dfm[\"Total number of previous IVF cycles\"].unique()"
   ]
  },
  {
   "cell_type": "markdown",
   "metadata": {},
   "source": [
    "~~~"
   ]
  },
  {
   "cell_type": "code",
   "execution_count": 279,
   "metadata": {},
   "outputs": [],
   "source": [
    "dfm.dropna(axis=0, how='any',subset=['Embryos stored for use by patient'], inplace=True)"
   ]
  },
  {
   "cell_type": "code",
   "execution_count": 280,
   "metadata": {},
   "outputs": [
    {
     "data": {
      "text/plain": [
       "array([0., 1.])"
      ]
     },
     "execution_count": 280,
     "metadata": {},
     "output_type": "execute_result"
    }
   ],
   "source": [
    "dfm[\"Elective single embryo transfer\"].unique()"
   ]
  },
  {
   "cell_type": "markdown",
   "metadata": {},
   "source": [
    "~~~~"
   ]
  },
  {
   "cell_type": "code",
   "execution_count": 281,
   "metadata": {},
   "outputs": [
    {
     "data": {
      "text/plain": [
       "array([0.])"
      ]
     },
     "execution_count": 281,
     "metadata": {},
     "output_type": "execute_result"
    }
   ],
   "source": [
    "dfm[\"Donated embryo\"].unique()"
   ]
  },
  {
   "cell_type": "code",
   "execution_count": 282,
   "metadata": {},
   "outputs": [
    {
     "data": {
      "text/plain": [
       "(35217, 26)"
      ]
     },
     "execution_count": 282,
     "metadata": {},
     "output_type": "execute_result"
    }
   ],
   "source": [
    "dfm.drop('Donated embryo', axis=1, inplace=True)\n",
    "dfm.shape"
   ]
  },
  {
   "cell_type": "markdown",
   "metadata": {},
   "source": [
    "~~~~"
   ]
  },
  {
   "cell_type": "code",
   "execution_count": 283,
   "metadata": {},
   "outputs": [
    {
     "data": {
      "text/plain": [
       "array([1., 0., 2., 3.])"
      ]
     },
     "execution_count": 283,
     "metadata": {},
     "output_type": "execute_result"
    }
   ],
   "source": [
    "dfm[\"Embryos transferred\"].unique()"
   ]
  },
  {
   "cell_type": "code",
   "execution_count": 284,
   "metadata": {},
   "outputs": [],
   "source": [
    "dfm[\"Partner Type\"] = le.fit_transform(dfm[\"Partner Type\"])\n"
   ]
  },
  {
   "cell_type": "code",
   "execution_count": 285,
   "metadata": {},
   "outputs": [
    {
     "name": "stdout",
     "output_type": "stream",
     "text": [
      "<class 'pandas.core.frame.DataFrame'>\n",
      "Int64Index: 35217 entries, 5 to 169611\n",
      "Data columns (total 26 columns):\n",
      " #   Column                                       Non-Null Count  Dtype  \n",
      "---  ------                                       --------------  -----  \n",
      " 0   Patient age at treatment                     35217 non-null  int64  \n",
      " 1   Total number of previous IVF cycles          35217 non-null  int64  \n",
      " 2   Causes of infertility - tubal disease        35217 non-null  int64  \n",
      " 3   Causes of infertility - ovulatory disorder   35217 non-null  int64  \n",
      " 4   Causes of infertility - male factor          35217 non-null  int64  \n",
      " 5   Causes of infertility - patient unexplained  35217 non-null  int64  \n",
      " 6   Causes of infertility - endometriosis        35217 non-null  int64  \n",
      " 7   PGT-M treatment                              35217 non-null  int64  \n",
      " 8   PGT-A treatment                              35217 non-null  int64  \n",
      " 9   Elective single embryo transfer              35217 non-null  float64\n",
      " 10  Fresh cycle                                  35217 non-null  float64\n",
      " 11  Eggs thawed (0/1)                            35217 non-null  int64  \n",
      " 12  Fresh eggs collected                         35217 non-null  int64  \n",
      " 13  Fresh eggs stored (0/1)                      35217 non-null  int64  \n",
      " 14  Total eggs mixed                             35217 non-null  int64  \n",
      " 15  Total embryos created                        35217 non-null  int64  \n",
      " 16  Embryos transferred                          35217 non-null  float64\n",
      " 17  Total embryos thawed                         35217 non-null  int64  \n",
      " 18  Embryos stored for use by patient            35217 non-null  int64  \n",
      " 19  Year of treatment                            35217 non-null  int64  \n",
      " 20  Live birth occurrence                        35217 non-null  int64  \n",
      " 21  Number of live births                        35217 non-null  int64  \n",
      " 22  Patient ethnicity                            35217 non-null  int64  \n",
      " 23  Partner ethnicity                            35217 non-null  int64  \n",
      " 24  Partner Type                                 35217 non-null  int64  \n",
      " 25  Partner age                                  35217 non-null  int64  \n",
      "dtypes: float64(3), int64(23)\n",
      "memory usage: 7.3 MB\n"
     ]
    }
   ],
   "source": [
    "dfm.info()"
   ]
  },
  {
   "cell_type": "code",
   "execution_count": 286,
   "metadata": {},
   "outputs": [],
   "source": [
    "dfm.reset_index(drop=True, inplace=True)"
   ]
  },
  {
   "cell_type": "code",
   "execution_count": 287,
   "metadata": {},
   "outputs": [],
   "source": [
    "dfm\n",
    "dfm.to_csv('cleaned.csv')"
   ]
  },
  {
   "cell_type": "code",
   "execution_count": 288,
   "metadata": {},
   "outputs": [],
   "source": [
    "X = dfm.drop('Live birth occurrence', axis='columns')\n",
    "y = dfm[\"Live birth occurrence\"]"
   ]
  },
  {
   "cell_type": "code",
   "execution_count": 289,
   "metadata": {},
   "outputs": [
    {
     "data": {
      "text/plain": [
       "array([[ 1.40766242, -0.5548112 , -0.4225347 , ...,  0.54043914,\n",
       "         0.04743623,  0.69372345],\n",
       "       [ 0.62302096, -0.5548112 , -0.4225347 , ...,  0.54043914,\n",
       "         0.04743623,  0.69372345],\n",
       "       [ 0.62302096,  0.24184484, -0.4225347 , ...,  0.54043914,\n",
       "         0.04743623,  0.69372345],\n",
       "       ...,\n",
       "       [-0.1616205 , -0.5548112 , -0.4225347 , ..., -0.14357327,\n",
       "         0.04743623, -0.43736101],\n",
       "       [-0.94626196, -0.5548112 , -0.4225347 , ..., -2.1956105 ,\n",
       "         0.04743623, -1.00290323],\n",
       "       [-0.94626196, -0.5548112 ,  2.36666953, ...,  0.54043914,\n",
       "         0.04743623, -1.00290323]])"
      ]
     },
     "execution_count": 289,
     "metadata": {},
     "output_type": "execute_result"
    }
   ],
   "source": [
    "from sklearn.preprocessing import StandardScaler\n",
    "scaler = StandardScaler()\n",
    "\n",
    "X_scaled = scaler.fit_transform(X)\n",
    "X_scaled"
   ]
  },
  {
   "cell_type": "code",
   "execution_count": 290,
   "metadata": {},
   "outputs": [],
   "source": [
    "from prettytable import PrettyTable\n",
    "tab = PrettyTable()\n",
    "tab.title = 'Machine Learning Model Scores (0.3 split)'\n",
    "tab.field_names = ['ML Model', 'Model Score']"
   ]
  },
  {
   "cell_type": "code",
   "execution_count": 291,
   "metadata": {},
   "outputs": [],
   "source": [
    "from sklearn.model_selection import train_test_split\n",
    "\n",
    "from sklearn.tree import DecisionTreeClassifier\n",
    "from sklearn.neighbors import KNeighborsClassifier\n",
    "from sklearn.ensemble import RandomForestClassifier\n",
    "from sklearn.neural_network import MLPClassifier\n",
    "from sklearn.linear_model import LinearRegression\n",
    "from sklearn.ensemble import AdaBoostClassifier\n",
    "from sklearn.naive_bayes import GaussianNB\n",
    "\n",
    "split = 0.50\n",
    "\n",
    "X_train, X_test, y_train, y_test = train_test_split(X_scaled, y, test_size = split, random_state = 60)\n",
    "\n",
    "# DecisionTreeClassifier\n",
    "ml_tree = DecisionTreeClassifier()\n",
    "ml_tree.fit(X_train, y_train)\n",
    "treescore = ml_tree.score(X_test, y_test)\n",
    "tab.add_row(['DecisionTreeClassifier', treescore])\n",
    "\n",
    "# KNeighborsClassifier\n",
    "ml_knn = KNeighborsClassifier()\n",
    "ml_knn.fit(X_train, y_train)\n",
    "knnscore = ml_knn.score(X_test, y_test)\n",
    "tab.add_row(['KNNClassifier', knnscore])\n",
    "\n",
    "# RandomForestClassifier\n",
    "ml_rfc = RandomForestClassifier(n_estimators=1000)\n",
    "ml_rfc.fit(X_train, y_train)\n",
    "rfcscore = ml_rfc.score(X_test, y_test)\n",
    "tab.add_row(['RandomForestClassifier', rfcscore])\n",
    "\n",
    "# MLPClassifier\n",
    "ml_mlp = MLPClassifier()\n",
    "ml_mlp.fit(X_train, y_train)\n",
    "mlpscore = ml_mlp.score(X_test, y_test)\n",
    "tab.add_row(['MLPClassifier', mlpscore])\n",
    "\n",
    "# AdaBoostClassifier\n",
    "ml_ada = AdaBoostClassifier()\n",
    "ml_ada.fit(X_train, y_train)\n",
    "adascore = ml_ada.score(X_test, y_test)\n",
    "tab.add_row(['AdaBoostClassifier', adascore])\n",
    "\n",
    "# LinearRegression\n",
    "ml_lr = LinearRegression()\n",
    "ml_lr.fit(X_train, y_train)\n",
    "lrscore = ml_lr.score(X_test, y_test)\n",
    "tab.add_row(['LinearRegression', lrscore])\n",
    "\n",
    "# GaussianNB\n",
    "ml_gnb = GaussianNB()\n",
    "ml_gnb.fit(X_train, y_train)\n",
    "gnbscore = ml_ada.score(X_test, y_test)\n",
    "tab.add_row(['GaussianNB', gnbscore])\n"
   ]
  },
  {
   "cell_type": "markdown",
   "metadata": {},
   "source": [
    "Printing all the score of the Machine Learning Models"
   ]
  },
  {
   "cell_type": "code",
   "execution_count": 292,
   "metadata": {},
   "outputs": [
    {
     "data": {
      "text/html": [
       "<table>\n",
       "    <caption>Machine Learning Model Scores (0.3 split)</caption>\n",
       "    <thead>\n",
       "        <tr>\n",
       "            <th>ML Model</th>\n",
       "            <th>Model Score</th>\n",
       "        </tr>\n",
       "    </thead>\n",
       "    <tbody>\n",
       "        <tr>\n",
       "            <td>DecisionTreeClassifier</td>\n",
       "            <td>1.0</td>\n",
       "        </tr>\n",
       "        <tr>\n",
       "            <td>KNNClassifier</td>\n",
       "            <td>0.9930717246862399</td>\n",
       "        </tr>\n",
       "        <tr>\n",
       "            <td>RandomForestClassifier</td>\n",
       "            <td>1.0</td>\n",
       "        </tr>\n",
       "        <tr>\n",
       "            <td>MLPClassifier</td>\n",
       "            <td>0.9998296325742518</td>\n",
       "        </tr>\n",
       "        <tr>\n",
       "            <td>AdaBoostClassifier</td>\n",
       "            <td>1.0</td>\n",
       "        </tr>\n",
       "        <tr>\n",
       "            <td>LinearRegression</td>\n",
       "            <td>-0.9987519475472328</td>\n",
       "        </tr>\n",
       "        <tr>\n",
       "            <td>GaussianNB</td>\n",
       "            <td>1.0</td>\n",
       "        </tr>\n",
       "    </tbody>\n",
       "</table>"
      ],
      "text/plain": [
       "+----------------------------------------------+\n",
       "|  Machine Learning Model Scores (0.3 split)   |\n",
       "+------------------------+---------------------+\n",
       "|        ML Model        |     Model Score     |\n",
       "+------------------------+---------------------+\n",
       "| DecisionTreeClassifier |         1.0         |\n",
       "|     KNNClassifier      |  0.9930717246862399 |\n",
       "| RandomForestClassifier |         1.0         |\n",
       "|     MLPClassifier      |  0.9998296325742518 |\n",
       "|   AdaBoostClassifier   |         1.0         |\n",
       "|    LinearRegression    | -0.9987519475472328 |\n",
       "|       GaussianNB       |         1.0         |\n",
       "+------------------------+---------------------+"
      ]
     },
     "execution_count": 292,
     "metadata": {},
     "output_type": "execute_result"
    }
   ],
   "source": [
    "tab"
   ]
  },
  {
   "cell_type": "markdown",
   "metadata": {},
   "source": [
    "~~~"
   ]
  },
  {
   "cell_type": "code",
   "execution_count": 293,
   "metadata": {},
   "outputs": [],
   "source": [
    "from sklearn.ensemble import VotingClassifier\n",
    "eclf1 = VotingClassifier(\n",
    "    estimators=[(\"tree\", ml_tree), (\"knn\", ml_knn), (\"rfc\", ml_rfc), (\"mlp\", ml_mlp), (\"ada\", ml_ada)],\n",
    "    voting=\"soft\")\n"
   ]
  },
  {
   "cell_type": "code",
   "execution_count": 294,
   "metadata": {},
   "outputs": [
    {
     "name": "stdout",
     "output_type": "stream",
     "text": [
      "[0 0 0 ... 1 0 0]\n",
      "1.0\n"
     ]
    }
   ],
   "source": [
    "eclf1 = eclf1.fit(X, y)\n",
    "print(eclf1.predict(X))\n",
    "print(eclf1.score(X,y))"
   ]
  },
  {
   "cell_type": "code",
   "execution_count": 295,
   "metadata": {},
   "outputs": [],
   "source": [
    "from sklearn.ensemble import VotingClassifier\n",
    "eclf2 = VotingClassifier(\n",
    "    estimators=[(\"tree\", ml_tree), (\"knn\", ml_knn), (\"rfc\", ml_rfc), (\"mlp\", ml_mlp), (\"ada\", ml_ada)],\n",
    "    voting=\"hard\")\n"
   ]
  },
  {
   "cell_type": "code",
   "execution_count": 296,
   "metadata": {},
   "outputs": [
    {
     "name": "stdout",
     "output_type": "stream",
     "text": [
      "[0 0 0 ... 1 0 0]\n",
      "1.0\n"
     ]
    }
   ],
   "source": [
    "eclf2 = eclf2.fit(X, y)\n",
    "print(eclf2.predict(X))\n",
    "print(eclf2.score(X,y))"
   ]
  },
  {
   "cell_type": "markdown",
   "metadata": {},
   "source": [
    "~~~~"
   ]
  },
  {
   "cell_type": "code",
   "execution_count": 297,
   "metadata": {},
   "outputs": [],
   "source": [
    "scoretab = PrettyTable()\n",
    "scoretab.title = 'Machine Learning Model Scores'\n",
    "scoretab.field_names = ['ML Model', 'roc_auc_score', 'f1_score', 'precision_score']"
   ]
  },
  {
   "cell_type": "code",
   "execution_count": 298,
   "metadata": {},
   "outputs": [
    {
     "ename": "SyntaxError",
     "evalue": "invalid syntax (912345185.py, line 10)",
     "output_type": "error",
     "traceback": [
      "\u001b[0;36m  Input \u001b[0;32mIn [298]\u001b[0;36m\u001b[0m\n\u001b[0;31m    f1_score(y, ml_knn.predict(X)),\u001b[0m\n\u001b[0m    ^\u001b[0m\n\u001b[0;31mSyntaxError\u001b[0m\u001b[0;31m:\u001b[0m invalid syntax\n"
     ]
    }
   ],
   "source": [
    "from sklearn.metrics import roc_auc_score, f1_score, precision_score\n",
    "\n",
    "scoretab.add_row(['DecisionTreeClassifier',\n",
    "                roc_auc_score(y, ml_tree.predict_proba(X)[:,1]),\n",
    "                f1_score(y, ml_tree.predict(X)),\n",
    "                precision_score(y, ml_tree.predict(X)) ])\n",
    "\n",
    "scoretab.add_row(['KNeighborsClassifier',\n",
    "                roc_auc_score(y, ml_knn.predict_proba(X)[:,1]),PrettyTable\n",
    "                f1_score(y, ml_knn.predict(X)),\n",
    "                precision_score(y, ml_knn.predict(X)) ])\n",
    "\n",
    "scoretab.add_row(['RandomForestClassifier',\n",
    "                roc_auc_score(y, ml_rfc.predict_proba(X)[:,1]),\n",
    "                f1_score(y, ml_rfc.predict(X)),\n",
    "                precision_score(y, ml_rfc.predict(X)) ])\n",
    "\n",
    "scoretab.add_row(['MLPClassifier',\n",
    "                roc_auc_score(y, ml_mlp.predict_proba(X)[:,1]),\n",
    "                f1_score(y, ml_mlp.predict(X)),\n",
    "                precision_score(y, ml_mlp.predict(X)) ])\n",
    "\n",
    "scoretab.add_row(['AdaBoostClassifier',\n",
    "                roc_auc_score(y, ml_ada.predict_proba(X)[:,1]),\n",
    "                f1_score(y, ml_ada.predict(X)),\n",
    "                precision_score(y, ml_ada.predict(X)) ])\n",
    "\n",
    "# scoretab.add_row(['LinearRegression',\n",
    "#                 roc_auc_score(y, ml_lr.predict(X)),\n",
    "#                 f1_score(y, ml_lr.predict(X)),\n",
    "#                 precision_score(y, ml_lr.predict(X)) ])\n",
    "\n",
    "# scoretab.add_row(['GaussianNB',\n",
    "#                 roc_auc_score(y, ml_gnb.predict(X)),\n",
    "#                 f1_score(y, ml_gnb.predict(X)),\n",
    "#                 precision_score(y, ml_gnb.predict(X)) ])\n",
    "\n",
    "scoretab"
   ]
  }
 ],
 "metadata": {
  "kernelspec": {
   "display_name": "Python 3.10.5 64-bit (windows store)",
   "language": "python",
   "name": "python3"
  },
  "language_info": {
   "codemirror_mode": {
    "name": "ipython",
    "version": 3
   },
   "file_extension": ".py",
   "mimetype": "text/x-python",
   "name": "python",
   "nbconvert_exporter": "python",
   "pygments_lexer": "ipython3",
   "version": "3.10.6"
  },
  "vscode": {
   "interpreter": {
    "hash": "403ce4ad6afa685f688203efe71022cb75536173ef9da9a7b6aee4e1cb4a074b"
   }
  }
 },
 "nbformat": 4,
 "nbformat_minor": 2
}
